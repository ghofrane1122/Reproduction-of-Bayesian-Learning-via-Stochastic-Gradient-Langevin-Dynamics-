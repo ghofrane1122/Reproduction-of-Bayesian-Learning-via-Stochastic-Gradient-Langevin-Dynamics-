{
 "cells": [
  {
   "cell_type": "markdown",
   "id": "4a4fc6b9",
   "metadata": {},
   "source": [
    "# Section 5.3 - Reproduction using SGLD"
   ]
  },
  {
   "cell_type": "markdown",
   "id": "9ef36d42",
   "metadata": {
    "id": "9ef36d42"
   },
   "source": [
    "# Independent Component Analysis (ICA) with SGLD\n",
    "This notebook demonstrates Bayesian ICA using SGLD for posterior inference on artificial data."
   ]
  },
  {
   "cell_type": "code",
   "execution_count": null,
   "id": "7ff806f4",
   "metadata": {},
   "outputs": [],
   "source": [
    "#1. Generate Synthetic Sources and Mix Signals\n",
    "import numpy as np\n",
    "import matplotlib.pyplot as plt\n",
    "import seaborn as sns\n",
    "from scipy.special import expit\n",
    "from sklearn.metrics import mean_squared_error\n",
    "\n",
    "np.random.seed(0)\n",
    "N = 1000\n",
    "S = np.vstack([\n",
    "    np.random.laplace(size=N),\n",
    "    np.random.laplace(size=N)\n",
    "])  # two independent sources\n",
    "\n",
    "# Mixing matrix\n",
    "A = np.array([[1, 2], [2, 1]])\n",
    "X = A @ S  # Mixed signals\n",
    "\n",
    "# Plot original vs mixed signals\n",
    "plt.figure(figsize=(12, 4))\n",
    "plt.subplot(1, 2, 1)\n",
    "plt.plot(S[0], label=\"Source 1\")\n",
    "plt.plot(S[1], label=\"Source 2\")\n",
    "plt.title(\"Original Sources\")\n",
    "plt.legend()\n",
    "\n",
    "plt.subplot(1, 2, 2)\n",
    "plt.plot(X[0], label=\"Mixed 1\")\n",
    "plt.plot(X[1], label=\"Mixed 2\")\n",
    "plt.title(\"Mixed Signals\")\n",
    "plt.legend()\n",
    "plt.tight_layout()\n",
    "plt.show()"
   ]
  },
  {
   "cell_type": "code",
   "execution_count": null,
   "id": "a1d7e734",
   "metadata": {},
   "outputs": [],
   "source": [
    "#2. SGLD Optimization with Natural Gradient\n",
    "W = np.eye(2)\n",
    "samples = []\n",
    "W_trace = []\n",
    "steps = 5000\n",
    "epsilon_schedule = lambda t: 0.1 * (1 + t) ** -0.55\n",
    "\n",
    "for t in range(steps):\n",
    "    i = np.random.randint(0, N)\n",
    "    x_i = X[:, i:i+1]  # shape (2,1)\n",
    "    y = W @ x_i\n",
    "    grad = (np.eye(2) - np.tanh(0.5 * y) @ x_i.T) - 0.01 * W\n",
    "    natural_grad = grad @ W.T @ W  # Natural gradient preconditioning\n",
    "\n",
    "    eps = epsilon_schedule(t)\n",
    "    noise = np.random.normal(scale=np.sqrt(eps), size=W.shape)\n",
    "    W += 0.5 * eps * natural_grad + noise\n",
    "    if t > 4000:\n",
    "        samples.append(W.copy())\n",
    "    if t % 100 == 0:\n",
    "        W_trace.append(W.copy())\n",
    "\n",
    "samples = np.array(samples)\n",
    "W_trace = np.array(W_trace)"
   ]
  },
  {
   "cell_type": "code",
   "execution_count": null,
   "id": "e402be6e",
   "metadata": {},
   "outputs": [],
   "source": [
    "#3. Posterior Summary Statistics\n",
    "W_mean = samples.mean(axis=0)\n",
    "W_std = samples.std(axis=0)\n",
    "print(\"Estimated Unmixing Matrix (mean over posterior):\\n\", W_mean)\n",
    "print(\"Posterior Std Deviation of W:\\n\", W_std)"
   ]
  },
  {
   "cell_type": "code",
   "execution_count": null,
   "id": "56955b17",
   "metadata": {},
   "outputs": [],
   "source": [
    "#4. Recovered Source Signals\n",
    "S_est = W_mean @ X\n",
    "plt.figure(figsize=(10, 4))\n",
    "for i in range(2):\n",
    "    plt.subplot(2, 1, i+1)\n",
    "    plt.plot(S_est[i], label=f'Component {i+1}')\n",
    "    plt.legend()\n",
    "plt.suptitle(\"Recovered Sources\")\n",
    "plt.tight_layout()\n",
    "plt.show()"
   ]
  },
  {
   "cell_type": "code",
   "execution_count": null,
   "id": "9cbb3be6",
   "metadata": {},
   "outputs": [],
   "source": [
    "#5. Trace Evolution of W\n",
    "fig, axes = plt.subplots(2, 2, figsize=(10, 6))\n",
    "for i in range(2):\n",
    "    for j in range(2):\n",
    "        axes[i, j].plot(W_trace[:, i, j])\n",
    "        axes[i, j].set_title(f\"$W_{{{i},{j}}}$\")\n",
    "plt.suptitle(\"Trace of W Matrix Entries During SGLD\")\n",
    "plt.tight_layout()\n",
    "plt.show()"
   ]
  },
  {
   "cell_type": "code",
   "execution_count": null,
   "id": "f7f4d94b",
   "metadata": {},
   "outputs": [],
   "source": [
    "#6. 2D Posterior PDFs (KDE)\n",
    "sns.jointplot(x=samples[:, 0, 0], y=samples[:, 0, 1], kind=\"kde\")\n",
    "plt.suptitle(\"Posterior PDF: $W_{0,0}$ vs $W_{0,1}$\", y=1.02)\n",
    "plt.show()\n",
    "\n",
    "sns.jointplot(x=samples[:, 0, 0], y=samples[:, 1, 0], kind=\"kde\")\n",
    "plt.suptitle(\"Posterior PDF: $W_{0,0}$ vs $W_{1,0}$\", y=1.02)\n",
    "plt.show()"
   ]
  },
  {
   "cell_type": "code",
   "execution_count": null,
   "id": "f2af6444",
   "metadata": {},
   "outputs": [],
   "source": [
    "#7. Instability Metric Calculation\n",
    "x_var = X.var(axis=1)\n",
    "instability = (samples.var(axis=0) * x_var[:, None]).sum(axis=1)\n",
    "sns.barplot(x=np.arange(len(instability)), y=instability)\n",
    "plt.title(\"Instability Index $I_i = \\sum_j var(W_{ij}) var(x_j)$\")\n",
    "plt.xlabel(\"Component Index\")\n",
    "plt.ylabel(\"Instability\")\n",
    "plt.show()"
   ]
  },
  {
   "cell_type": "code",
   "execution_count": null,
   "id": "ef9c24ea",
   "metadata": {},
   "outputs": [],
   "source": [
    "#8. Amari Distance Tracking\n",
    "def amari_distance(W, A):\n",
    "    P = W @ A\n",
    "    norm1 = np.sum(np.abs(P), axis=0)\n",
    "    norm2 = np.sum(np.abs(P), axis=1)\n",
    "    error = (np.sum(np.abs(P) / norm1[None, :]) - 2 +\n",
    "             np.sum(np.abs(P) / norm2[:, None]) - 2)\n",
    "    return error / (2 * P.shape[0])\n",
    "\n",
    "amari_distances = [amari_distance(W_est, A) for W_est in W_trace]\n",
    "plt.plot(amari_distances)\n",
    "plt.title(\"Amari Distance Between Estimated W and True Mixing A\")\n",
    "plt.xlabel(\"Iteration (every 100 steps)\")\n",
    "plt.ylabel(\"Amari Distance\")\n",
    "plt.grid(True)\n",
    "plt.show()"
   ]
  }
 ],
 "metadata": {
  "accelerator": "GPU",
  "colab": {
   "gpuType": "T4",
   "provenance": []
  },
  "kernelspec": {
   "display_name": "Python 3",
   "name": "python3"
  },
  "language_info": {
   "name": "python"
  }
 },
 "nbformat": 4,
 "nbformat_minor": 5
}
